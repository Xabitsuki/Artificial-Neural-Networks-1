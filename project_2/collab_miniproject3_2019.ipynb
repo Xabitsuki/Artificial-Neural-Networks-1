{
 "cells": [
  {
   "cell_type": "code",
   "execution_count": null,
   "metadata": {
    "colab": {
     "base_uri": "https://localhost:8080/",
     "height": 335
    },
    "colab_type": "code",
    "executionInfo": {
     "elapsed": 27696,
     "status": "ok",
     "timestamp": 1559495978344,
     "user": {
      "displayName": "Rubiato Xabier",
      "photoUrl": "",
      "userId": "17524761415352944891"
     },
     "user_tz": -120
    },
    "id": "2UGCD6LxW9N_",
    "outputId": "039362d4-bae3-4407-d3f5-865ff41d2921"
   },
   "outputs": [],
   "source": [
    "# !apt-get install -y xvfb python-opengl > /dev/null 2>&1\n",
    "# !pip install gym pyvirtualdisplay > /dev/null 2>&1\n",
    "# !pip install box2d-py\n",
    "# !pip install gym[box_2D]"
   ]
  },
  {
   "cell_type": "code",
   "execution_count": null,
   "metadata": {
    "colab": {
     "base_uri": "https://localhost:8080/",
     "height": 91
    },
    "colab_type": "code",
    "executionInfo": {
     "elapsed": 27911,
     "status": "ok",
     "timestamp": 1559495978585,
     "user": {
      "displayName": "Rubiato Xabier",
      "photoUrl": "",
      "userId": "17524761415352944891"
     },
     "user_tz": -120
    },
    "id": "cXmgGc3aXDHm",
    "outputId": "5fdf79ff-3915-448a-b1ad-f355b1211923"
   },
   "outputs": [],
   "source": [
    "# from IPython import display as ipythondisplay\n",
    "# from pyvirtualdisplay import Display\n",
    "# display = Display(visible=0, size=(400, 300))\n",
    "# display.start()"
   ]
  },
  {
   "cell_type": "markdown",
   "metadata": {
    "colab_type": "text",
    "id": "Mh5nSCReW6hJ"
   },
   "source": [
    "# Miniproject 3: Landing on the Moon\n",
    "\n",
    "## Introduction\n",
    "\n",
    "### Description\n",
    "\n",
    "Traditionally, reinforcement learning has operated on \"tabular\" state spaces, e.g. \"State 1\", \"State 2\", \"State 3\" etc. However, many important and interesting reinforcement learning problems (like moving robot arms or playing Atari games) are based on either continuous or very high-dimensional state spaces (like robot joint angles or pixels). Deep neural networks constitute one method for learning a value function or policy from continuous and high-dimensional observations. \n",
    "\n",
    "In this miniproject, you will teach an agent to play the Lunar Lander game from OpenAI Gym. The agent needs to learn how to land a lunar module safely on the surface of the moon. The state space is 8-dimensional and (mostly) continuous, consisting of the X and Y coordinates, the X and Y velocity, the angle, and the angular velocity of the lander, and two booleans indicating whether the left and right leg of the lander have landed on the moon.\n",
    "\n",
    "The agent gets a reward of +100 for landing safely and -100 for crashing. In addition, it receives \"shaping\" rewards at every step. It receives positive rewards for moving closer to [0,0], decreasing in velocity, shifting to an upright angle and touching the lander legs on the moon. It receives negative rewards for moving away from the landing site, increasing in velocity, turning sideways, taking the lander legs off the moon and for using fuel (firing the thrusters). The best score an agent can achieve in an episode is about +250.\n",
    "\n",
    "There are two versions of the task: one with discrete controls and one with continuous controls but we'll only work with the discrete version. In the discrete version, the agent can take one of four actions at each time step: [do nothing, fire engines left, fire engines right, fire engines down]. \n",
    "\n",
    "We will use Policy Gradient approaches (using the REINFORCE rule) to learn the task. In the previous miniproject, the network generates a probability distribution over the outputs, and is trained to maximize the probability of a specific target output given an observation (input). In Policy Gradient methods, the network generates a probability distribution over actions, and is trained to maximize expected future rewards given an observation.\n",
    "\n",
    "### Prerequisites\n",
    "\n",
    "- You need to install [OpenAI Gym](https://gym.openai.com/docs/) and Box2D in addition to [tensorflow](https://www.tensorflow.org/install/) and [keras](https://keras.io/) in you environment. To do so just use the following commands:\n",
    "  - source activate cs456env\n",
    "  - pip install gym\n",
    "  - pip install box2d-py\n",
    "  \n",
    "- You should know the concepts of \"policy\", \"policy gradient\", \"REINFORCE\", \"REINFORCE with baseline\". If you want to start and haven't seen these yet in class, read Sutton & Barto (2018) Chapter 13 (13.1-13.4).\n",
    "\n",
    "### What you will learn\n",
    "\n",
    "- You will learn how to implement a policy gradient neural network using the REINFORCE algorithm.\n",
    "- You will learn how to implement baselines, including a learned value network.\n",
    "- You will learn how to regularize a policy using entropy.\n",
    "\n",
    "### Notes \n",
    "- Reinforcement learning is noisy! Normally one should average over multiple random seeds with the same parameters to really see the impact of a change to the model, but we won't do this due to time constraints. However, you should be able to see learning over time with every approach. If you don't see any improvement, or very unstable learning, double-check your model and try adjusting the learning rate.\n",
    "\n",
    "- You may sometimes see \"AssertionError: IsLocked() = False\" after restarting your code. To fix this, reinitialize the environments by running the Gym Setup code below.\n",
    "\n",
    "- You will not be marked on the episode movies. Please delete these movies before uploading your code.\n",
    "\n",
    "### Evaluation criteria\n",
    "\n",
    "The miniproject is marked out of 18, with a further mark breakdown in each question:\n",
    "- Exercise 1: 7 points\n",
    "- Exercise 2: 3 points\n",
    "- Exercise 3: 3 points\n",
    "- Exercise 4: 5 points\n",
    "\n",
    "We may perform random tests of your code but will not rerun the whole notebook."
   ]
  },
  {
   "cell_type": "code",
   "execution_count": 12,
   "metadata": {
    "colab": {
     "base_uri": "https://localhost:8080/",
     "height": 17
    },
    "colab_type": "code",
    "executionInfo": {
     "elapsed": 27892,
     "status": "ok",
     "timestamp": 1559495978586,
     "user": {
      "displayName": "Rubiato Xabier",
      "photoUrl": "",
      "userId": "17524761415352944891"
     },
     "user_tz": -120
    },
    "id": "yuvSArRiW6hK",
    "outputId": "c1058150-7ff5-4bf2-eed6-264a4a054105"
   },
   "outputs": [
    {
     "data": {
      "application/javascript": [
       "IPython.OutputArea.prototype._should_scroll = function(lines) {\n",
       "    return false;\n",
       "}\n"
      ],
      "text/plain": [
       "<IPython.core.display.Javascript object>"
      ]
     },
     "metadata": {},
     "output_type": "display_data"
    }
   ],
   "source": [
    "%%javascript\n",
    "IPython.OutputArea.prototype._should_scroll = function(lines) {\n",
    "    return false;\n",
    "}"
   ]
  },
  {
   "cell_type": "markdown",
   "metadata": {
    "colab_type": "text",
    "id": "JErRwRaKW6hQ"
   },
   "source": [
    "### Your Names\n",
    "\n",
    "Before you start, please enter your sciper number(s) in the field below; they are used to load the data."
   ]
  },
  {
   "cell_type": "code",
   "execution_count": 13,
   "metadata": {
    "ExecuteTime": {
     "end_time": "2018-03-09T09:08:24.514461Z",
     "start_time": "2018-03-09T09:08:24.506410Z"
    },
    "colab": {},
    "colab_type": "code",
    "id": "IKXUhfyvW6hR"
   },
   "outputs": [],
   "source": [
    "sciper = {'student_1': 246038, \n",
    "          'student_2': 247845}\n",
    "seed = sciper['student_1']+sciper['student_2']"
   ]
  },
  {
   "cell_type": "markdown",
   "metadata": {
    "colab_type": "text",
    "id": "yLH_5v49W6hU"
   },
   "source": [
    "## Setup\n",
    "\n",
    "### Dependencies and constants"
   ]
  },
  {
   "cell_type": "code",
   "execution_count": 14,
   "metadata": {
    "ExecuteTime": {
     "end_time": "2018-03-09T09:09:16.113721Z",
     "start_time": "2018-03-09T09:09:16.100520Z"
    },
    "colab": {
     "base_uri": "https://localhost:8080/",
     "height": 34
    },
    "colab_type": "code",
    "executionInfo": {
     "elapsed": 34797,
     "status": "ok",
     "timestamp": 1559495985507,
     "user": {
      "displayName": "Rubiato Xabier",
      "photoUrl": "",
      "userId": "17524761415352944891"
     },
     "user_tz": -120
    },
    "id": "kLenyPrdW6hV",
    "outputId": "bcffeacb-d105-423c-d3c3-2f2ae63c1244"
   },
   "outputs": [],
   "source": [
    "import gym\n",
    "import numpy as np\n",
    "import matplotlib.pyplot as plt\n",
    "import logging\n",
    "from matplotlib.animation import FuncAnimation\n",
    "from IPython.display import HTML, clear_output\n",
    "from gym.envs.box2d.lunar_lander import heuristic\n",
    "\n",
    "import keras\n",
    "import tensorflow as tf\n",
    "from tensorflow.contrib.distributions import Beta\n",
    "from keras.models import Sequential\n",
    "from keras.layers import Dense, Lambda\n",
    "from keras.optimizers import Adam\n",
    "from keras import backend as K\n",
    "\n",
    "np.random.seed(seed)\n",
    "tf.set_random_seed(seed*2)"
   ]
  },
  {
   "cell_type": "markdown",
   "metadata": {
    "colab_type": "text",
    "id": "k62_YEmNW6hZ"
   },
   "source": [
    "### Gym Setup\n",
    "\n",
    "Here we load the Reinforcement Learning environments from Gym.\n",
    "\n",
    "We limit each episode to 500 steps so that we can train faster. "
   ]
  },
  {
   "cell_type": "code",
   "execution_count": 15,
   "metadata": {
    "colab": {},
    "colab_type": "code",
    "id": "PS72fAAIW6ha"
   },
   "outputs": [],
   "source": [
    "gym.logger.setLevel(logging.ERROR)\n",
    "discrete_env = gym.make('LunarLander-v2')\n",
    "discrete_env._max_episode_steps = 500\n",
    "discrete_env.seed(seed*3)\n",
    "gym.logger.setLevel(logging.WARN)\n",
    "\n",
    "%matplotlib inline\n",
    "plt.rcParams['figure.figsize'] = 12, 8\n",
    "plt.rcParams[\"animation.html\"] = \"jshtml\""
   ]
  },
  {
   "cell_type": "markdown",
   "metadata": {
    "colab_type": "text",
    "id": "QkB8W8j-W6hd"
   },
   "source": [
    "### Utilities\n",
    "\n",
    "We include a function that lets you visualize an \"episode\" (i.e. a series of observations resulting from the actions that the agent took in the environment).\n",
    "\n",
    "As well, we will use the \"Results\" class (a wrapper around a python dictionary) to store, save, load and plot your results. You can save your results to disk with results.save('filename') and reload them with Results(filename='filename'). Use results.pop(experiment_name) to delete an old experiment."
   ]
  },
  {
   "cell_type": "code",
   "execution_count": 16,
   "metadata": {
    "code_folding": [],
    "colab": {},
    "colab_type": "code",
    "id": "J0KAeQAwW6he"
   },
   "outputs": [],
   "source": [
    "def AddValue(output_size, value):\n",
    "    return Lambda(lambda x: x + value, output_shape=(output_size,))\n",
    "\n",
    "def render(episode, env):\n",
    "    \n",
    "    fig = plt.figure()\n",
    "    img = plt.imshow(env.render(mode='rgb_array'))\n",
    "    plt.axis('off')\n",
    "\n",
    "    def animate(i):\n",
    "        img.set_data(episode[i])\n",
    "        return img,\n",
    "\n",
    "    anim = FuncAnimation(fig, animate, frames=len(episode), interval=24, blit=True)\n",
    "    html = HTML(anim.to_jshtml())\n",
    "    \n",
    "    plt.close(fig)\n",
    "    !rm None0000000.png\n",
    "    \n",
    "    return html\n",
    "\n",
    "class Results(dict):\n",
    "    \n",
    "    def __init__(self, *args, **kwargs):\n",
    "        if 'filename' in kwargs:\n",
    "            data = np.load(kwargs['filename'])\n",
    "            super().__init__(data)\n",
    "        else:\n",
    "            super().__init__(*args, **kwargs)\n",
    "        self.new_key = None\n",
    "        self.plot_keys = None\n",
    "        self.ylim = None\n",
    "        \n",
    "    def __setitem__(self, key, value):\n",
    "        super().__setitem__(key, value)\n",
    "        self.new_key = key\n",
    "\n",
    "    def plot(self, window):\n",
    "        clear_output(wait=True)\n",
    "        for key in self:\n",
    "            #Ensure latest results are plotted on top\n",
    "            if self.plot_keys is not None and key not in self.plot_keys:\n",
    "                continue\n",
    "            elif key == self.new_key:\n",
    "                continue\n",
    "            self.plot_smooth(key, window)\n",
    "        if self.new_key is not None:\n",
    "            self.plot_smooth(self.new_key, window)\n",
    "        plt.xlabel('Episode')\n",
    "        plt.ylabel('Reward')\n",
    "        plt.legend(loc='lower right')\n",
    "        if self.ylim is not None:\n",
    "            plt.ylim(self.ylim)\n",
    "        plt.show()\n",
    "        \n",
    "    def plot_smooth(self, key, window):\n",
    "        if len(self[key]) == 0:\n",
    "            plt.plot([], [], label=key)\n",
    "            return None\n",
    "        y = np.convolve(self[key], np.ones((window,))/window, mode='valid')\n",
    "        x = np.linspace(window/2, len(self[key]) - window/2, len(y))\n",
    "        plt.plot(x, y, label=key)\n",
    "        \n",
    "    def save(self, filename='results'):\n",
    "        np.savez(filename, **self)"
   ]
  },
  {
   "cell_type": "markdown",
   "metadata": {
    "colab_type": "text",
    "id": "ygkAnUkNW6hh"
   },
   "source": [
    "### Test runs\n",
    "\n",
    "To get an idea of how the environment works, we'll plot an episode resulting from random actions at each point in time, and a \"perfect\" episode using a specially-designed function to land safely within the yellow flags. \n",
    "\n",
    "Please remove these plots before submitting the miniproject to reduce the file size."
   ]
  },
  {
   "cell_type": "code",
   "execution_count": 17,
   "metadata": {
    "code_folding": [],
    "colab": {},
    "colab_type": "code",
    "id": "kM7qegDzW6hh"
   },
   "outputs": [],
   "source": [
    "# def run_fixed_episode(env, policy):\n",
    "#     frames = []\n",
    "#     observation = env.reset()\n",
    "#     done = False\n",
    "#     while not done:\n",
    "#         frames.append(env.render(mode='rgb_array'))\n",
    "#         action = policy(env, observation)\n",
    "#         observation, reward, done, info = env.step(action)\n",
    "#     return frames\n",
    "    \n",
    "# def random_policy(env, observation):\n",
    "#     return env.action_space.sample()\n",
    "\n",
    "# def heuristic_policy(env, observation):\n",
    "#     return heuristic(env.unwrapped, observation)"
   ]
  },
  {
   "cell_type": "code",
   "execution_count": 18,
   "metadata": {
    "colab": {
     "base_uri": "https://localhost:8080/",
     "height": 701
    },
    "colab_type": "code",
    "executionInfo": {
     "elapsed": 51362,
     "status": "ok",
     "timestamp": 1559477258294,
     "user": {
      "displayName": "Rubiato Xabier",
      "photoUrl": "",
      "userId": "17524761415352944891"
     },
     "user_tz": -120
    },
    "id": "1Zh3ORFIW6hk",
    "outputId": "58005d87-c920-4243-aad2-a9296330e496",
    "scrolled": true
   },
   "outputs": [],
   "source": [
    "# episode = run_fixed_episode(discrete_env, random_policy)\n",
    "# render(episode, discrete_env)"
   ]
  },
  {
   "cell_type": "markdown",
   "metadata": {
    "colab_type": "text",
    "id": "9L1jOCUOW6hq"
   },
   "source": [
    "## Experiment Loop\n",
    "\n",
    "This is the method we will call to setup an experiment. Reinforcement learning usually operates on an Observe-Decide-Act cycle, as you can see below.\n",
    "\n",
    "You don't need to add anything here; you will be working directly on the RL agent."
   ]
  },
  {
   "cell_type": "code",
   "execution_count": 19,
   "metadata": {
    "colab": {},
    "colab_type": "code",
    "id": "IvQYaSZ4W6hr"
   },
   "outputs": [],
   "source": [
    "num_episodes = 3000\n",
    "\n",
    "def run_experiment(experiment_name,\n",
    "                   env, num_episodes,\n",
    "                   policy_learning_rate = 0.001,\n",
    "                   value_learning_rate = 0.001,\n",
    "                   baseline=None,\n",
    "                   entropy_cost = 0,\n",
    "                   max_ent_cost = 0):\n",
    "\n",
    "    #Initiate the learning agent\n",
    "    agent = RLAgent(n_obs = env.observation_space.shape[0], action_space = env.action_space,\n",
    "                    policy_learning_rate = policy_learning_rate, value_learning_rate = value_learning_rate, \n",
    "                    discount=0.99, baseline = baseline, entropy_cost = entropy_cost, max_ent_cost = max_ent_cost)\n",
    "\n",
    "    rewards = []\n",
    "    all_episode_frames = []\n",
    "    step = 0\n",
    "    for episode in range(1, num_episodes+1):\n",
    "    \n",
    "        #Update results plot and occasionally store an episode movie\n",
    "        episode_frames = None\n",
    "        if episode % 10 == 0:\n",
    "            results[experiment_name] = np.array(rewards)\n",
    "            results.plot(10)\n",
    "        if episode % 500 == 0:\n",
    "            episode_frames = []\n",
    "            \n",
    "        #Reset the environment to a new episode\n",
    "        observation = env.reset()\n",
    "        episode_reward = 0\n",
    "\n",
    "        while True:\n",
    "        \n",
    "            if episode_frames is not None:\n",
    "                episode_frames.append(env.render(mode='rgb_array'))\n",
    "\n",
    "            # 1. Decide on an action based on the observations\n",
    "            action = agent.decide(observation)\n",
    "\n",
    "            # 2. Take action in the environment\n",
    "            next_observation, reward, done, info = env.step(action)\n",
    "            episode_reward += reward\n",
    "\n",
    "            # 3. Store the information returned from the environment for training\n",
    "            agent.observe(observation, action, reward)\n",
    "            \n",
    "            # 4. When we reach a terminal state (\"done\"), use the observed episode to train the network\n",
    "            if done:\n",
    "                rewards.append(episode_reward)\n",
    "                if episode_frames is not None:\n",
    "                    all_episode_frames.append(episode_frames)\n",
    "                agent.train()\n",
    "                break\n",
    "\n",
    "            # Reset for next step\n",
    "            observation = next_observation\n",
    "            step += 1\n",
    "            \n",
    "    return all_episode_frames, agent"
   ]
  },
  {
   "cell_type": "markdown",
   "metadata": {
    "colab_type": "text",
    "id": "ZqNxkMTDW6ht"
   },
   "source": [
    "## The Agent\n",
    "\n",
    "Here we give the outline of a python class that will represent the reinforcement learning agent (along with its decision-making network). We'll modify this class to add additional methods and functionality throughout the course of the miniproject.\n"
   ]
  },
  {
   "cell_type": "code",
   "execution_count": 20,
   "metadata": {
    "code_folding": [],
    "colab": {},
    "colab_type": "code",
    "id": "ZHp_6YxFW6ht"
   },
   "outputs": [],
   "source": [
    "from keras.utils import to_categorical\n",
    "\n",
    "class RLAgent(object):\n",
    "    \n",
    "    def __init__(self, n_obs,\n",
    "                 action_space,\n",
    "                 policy_learning_rate,\n",
    "                 value_learning_rate, \n",
    "                 discount, \n",
    "                 baseline = None,\n",
    "                 entropy_cost = 0,\n",
    "                 max_ent_cost = 0):\n",
    "\n",
    "        #We need the state and action dimensions to build the network\n",
    "        self.n_obs = n_obs  \n",
    "        self.n_act = action_space.n\n",
    "        \n",
    "        self.gamma = discount\n",
    "        self.moving_baseline = None\n",
    "\n",
    "        #Fill in the rest of the agent parameters to use in the methods below\n",
    "        self.policy_learning_rate = policy_learning_rate\n",
    "        self.value_learning_rate = value_learning_rate\n",
    "        \n",
    "        self.use_baseline = False\n",
    "        self.use_adaptive_baseline = False\n",
    "\n",
    "        if baseline == 'adaptive':\n",
    "            self.use_baseline = True\n",
    "            self.use_adaptive_baseline = True\n",
    "        elif baseline == 'simple':\n",
    "            self.use_baseline = True\n",
    "            self.moving_baseline = []\n",
    "\n",
    "        #These lists stores the cumulative observations for this episode\n",
    "        self.episode_observations, self.episode_actions, self.episode_rewards = [], [], []\n",
    "        \n",
    "        # Regularization\n",
    "        self.entropy_cost = entropy_cost \n",
    "\n",
    "        # MERL\n",
    "        self.max_ent_cost = max_ent_cost\n",
    "        self.choice_probs = []\n",
    "        \n",
    "        #Build the keras network\n",
    "        self._build_network()\n",
    "\n",
    "    def observe(self, state, action, reward):\n",
    "        \"\"\" This function takes the observations the agent received from the environment and stores them\n",
    "            in the lists above. \"\"\"\n",
    "        self.episode_observations.append(state)\n",
    "        self.episode_actions.append(to_categorical(action, self.n_act))\n",
    "        self.episode_rewards.append(reward)\n",
    "        \n",
    "    def decide(self, state):\n",
    "        \"\"\" This function feeds the observed state to the network, which returns a distribution\n",
    "            over possible actions. Sample an action from the distribution and return it.\"\"\"\n",
    "        prediction = self.policy_network.predict(state.reshape(1,-1), batch_size=1)[0]\n",
    "        choice = np.random.choice(self.n_act, 1, p=prediction)[0]\n",
    "        \n",
    "        if self.max_ent_cost: # Keep track of decision probabilities\n",
    "            self.choice_probs.append(prediction[choice])\n",
    "        \n",
    "        return choice \n",
    "    \n",
    "    def train(self):\n",
    "        \"\"\" When this function is called, the accumulated observations, actions and discounted rewards from the\n",
    "            current episode should be fed into the network and used for training. Use the _get_returns function \n",
    "            to first turn the episode rewards into discounted returns. \"\"\"\n",
    "        # Get the returns to be used as weights in combination with the categorical crossentropy loss function\n",
    "            \n",
    "        x_train = np.vstack(self.episode_observations)\n",
    "        y_train = np.vstack(self.episode_actions)\n",
    "        returns = self._get_returns()\n",
    "        \n",
    "        if self.use_adaptive_baseline: # Adaptive Baseline            \n",
    "            predicted_values = self.value_network.predict(np.vstack(self.episode_observations)) \n",
    "            predicted_values = [p[0] for p in predicted_values]\n",
    "            self.value_network.train_on_batch(x=x_train, y=np.vstack(returns))\n",
    "            returns -= predicted_values\n",
    "            \n",
    "        self.policy_network.train_on_batch(x=x_train, y=y_train, sample_weight=returns)\n",
    "        \n",
    "            \n",
    "        # Clear lists for next episode\n",
    "        self.episode_observations, self.episode_actions, self.episode_rewards = [], [], []\n",
    "        self.choice_probs = []\n",
    "        \n",
    "    def _get_returns(self):\n",
    "        \"\"\" This function should process self.episode_rewards and return the discounted episode returns\n",
    "            at each step in the episode, then optionally apply a baseline. Hint: work backwards.\"\"\"\n",
    "        n = len(self.episode_rewards)\n",
    "        rets = np.zeros(n)\n",
    "        acc, bl = 0, 0\n",
    "        \n",
    "        if self.max_ent_cost:\n",
    "            self.episode_rewards -= self.max_ent_cost*np.log(self.choice_probs) \n",
    "        \n",
    "        for i in reversed(range(n)):\n",
    "            acc = acc*self.gamma + self.episode_rewards[i]\n",
    "            rets[i] = acc\n",
    "        \n",
    "        if self.use_baseline and not self.use_adaptive_baseline:\n",
    "            self.moving_baseline = np.concatenate([self.moving_baseline, rets])\n",
    "            bl = np.mean(self.moving_baseline)\n",
    "                \n",
    "        return rets - bl\n",
    "                \n",
    "    def _build_network(self):\n",
    "        \"\"\" This function should build the network that can then be called by decide and train. \n",
    "            The network takes observations as inputs and has a policy distribution as output.\"\"\"\n",
    "        self.policy_network = Sequential()\n",
    "        self.policy_network.add(Dense(16, input_shape=(8,), activation='relu'))\n",
    "        self.policy_network.add(Dense(16, activation='relu'))\n",
    "        self.policy_network.add(Dense(16, activation='relu'))\n",
    "        \n",
    "        if self.entropy_cost: # Regularized last layer\n",
    "            self.policy_network.add(Dense(self.n_act, activation='softmax',\n",
    "                                          activity_regularizer=self.entropy))\n",
    "        \n",
    "        else: # No Regularization\n",
    "            self.policy_network.add(Dense(self.n_act, activation='softmax'))\n",
    "        \n",
    "        self.policy_network.compile(optimizer=Adam(lr=self.policy_learning_rate),\n",
    "                                    loss='categorical_crossentropy',\n",
    "                                    metrics=['accuracy'])\n",
    "        \n",
    "        if self.use_adaptive_baseline:\n",
    "            self.value_network = Sequential()\n",
    "            self.value_network.add(Dense(16, input_shape=(8,), activation='relu'))\n",
    "            self.value_network.add(Dense(16, activation='relu'))\n",
    "            self.value_network.add(Dense(16, activation='relu'))\n",
    "            self.value_network.add(Dense(1))\n",
    "            \n",
    "            self.value_network.compile(optimizer=Adam(lr=self.value_learning_rate),\n",
    "                                       loss='mean_squared_error',\n",
    "                                       metrics=['accuracy'])\n",
    "\n",
    "\n",
    "    def entropy(self, matrix_weights): \n",
    "        return self.entropy_cost*K.sum(matrix_weights*K.log(matrix_weights))\n"
   ]
  },
  {
   "cell_type": "code",
   "execution_count": null,
   "metadata": {
    "colab": {},
    "colab_type": "code",
    "id": "3eZ_IxxKW6h-",
    "scrolled": false
   },
   "outputs": [],
   "source": [
    "results = Results(filename='grid_search_entropy_cost')\n",
    "num_episodes = 3000\n",
    "\n",
    "policy_learning_rate = 0.0023\n",
    "value_learning_rate  = 0.05\n",
    "\n",
    "entropy_costs = [0.0005]\n",
    "\n",
    "for cost in entropy_costs:\n",
    "    experiment_name = \"REINFORCE (adaptive, entropy cost: {})\".format(cost)\n",
    "    \n",
    "    all_episode_frames, agent = run_experiment(experiment_name=experiment_name,\n",
    "                                               env=discrete_env,\n",
    "                                               num_episodes=num_episodes,\n",
    "                                               policy_learning_rate=policy_learning_rate,\n",
    "                                               value_learning_rate=value_learning_rate, \n",
    "                                               baseline='adaptive', \n",
    "                                               entropy_cost=cost,\n",
    "                                               max_ent_cost=0)\n",
    "\n",
    "results.save(filename='grid_search_entropy_cost')"
   ]
  },
  {
   "cell_type": "code",
   "execution_count": null,
   "metadata": {
    "colab": {},
    "colab_type": "code",
    "id": "3eZ_IxxKW6h-",
    "scrolled": false
   },
   "outputs": [
    {
     "data": {
      "image/png": "[encoded data removed]",
      "text/plain": [
       "<Figure size 864x576 with 1 Axes>"
      ]
     },
     "metadata": {
      "needs_background": "light"
     },
     "output_type": "display_data"
    }
   ],
   "source": [
    "results = Results()\n",
    "num_episodes = 3000\n",
    "\n",
    "policy_learning_rate = 0.0023\n",
    "value_learning_rate  = 0.05\n",
    "entropy_cost = 0.001\n",
    "max_ent_cost = 0.1\n",
    "\n",
    "\n",
    "experiment_name = \"REINFORCE (PL: {}, VL: {}, EC: {}, MEC: {})\".format(policy_learning_rate,\n",
    "                                                                       value_learning_rate,\n",
    "                                                                       entropy_cost,\n",
    "                                                                       max_ent_cost)\n",
    "\n",
    "all_episode_frames, agent = run_experiment(experiment_name=experiment_name,\n",
    "                                           env=discrete_env,\n",
    "                                           num_episodes=num_episodes,\n",
    "                                           policy_learning_rate=policy_learning_rate,\n",
    "                                           value_learning_rate=value_learning_rate, \n",
    "                                           baseline='adaptive', \n",
    "                                           entropy_cost=entropy_cost,\n",
    "                                           max_ent_cost=max_ent_cost)\n",
    "\n",
    "results.save(filename='mix')"
   ]
  },
  {
   "cell_type": "markdown",
   "metadata": {
    "colab_type": "text",
    "id": "mdTzMEz8W6hv"
   },
   "source": [
    "## Exercise 1: REINFORCE with simple baseline\n",
    "\n",
    "### Description\n",
    "\n",
    "Implement the REINFORCE Policy Gradient algorithm using a deep neural network as a function approximator.\n",
    "\n",
    "1. Implement the \"observe\" method of the RLAgent above.\n",
    "2. Implement the \"_build_network\" method. Your network should take the 8-dimensional state space as input and output a softmax distribution over the 4 discrete actions. It should have 3 hidden layers with about 16 units each with ReLU activations. Use the REINFORCE loss function. HINT: Keras has a built-in \"categorical cross-entropy\" loss, and a \"sample_weight\" argument in fit/train_on_batch. Consider how these could be used together.\n",
    "3. Implement the \"decide\", \"train\" and \"_get_returns\" methods using the inputs and outputs of your network. In \"_get_returns\", implement a baseline based on a moving average of the returns; it should only be in effect when the agent is constructed with the \"use_baseline\" keyword. In \"train\", use train_on_batch to form one minibatch from all the experiences in an episode. \n",
    "4. Try a few learning rates and pick the best one (the default for Adam is a good place to start). Run the functions below and include the resulting plots, with and without the baseline, for your chosen learning rate. \n",
    "5. Answer the question below in max. 1-2 sentence(s).\n",
    "\n",
    "WARNING: Running any experiments with the same names (first argument in run_experiment) will cause your results to be overwritten. \n",
    "\n",
    "**Mark breakdown: 7 points total**\n",
    "- 5 points for implementing and plotting basic REINFORCE with reasonable performance (i.e. a positive score) and answering the questions below.\n",
    "- 2 points for implementing and plotting the simple baseline with reasonable performance."
   ]
  },
  {
   "cell_type": "markdown",
   "metadata": {
    "colab_type": "text",
    "id": "MSk0OzAyW6hv"
   },
   "source": [
    "### Solution"
   ]
  },
  {
   "cell_type": "markdown",
   "metadata": {
    "colab_type": "text",
    "id": "LrYlM756W6hw"
   },
   "source": [
    "#### Without Baseline"
   ]
  },
  {
   "cell_type": "code",
   "execution_count": null,
   "metadata": {
    "colab": {
     "base_uri": "https://localhost:8080/",
     "height": 858
    },
    "colab_type": "code",
    "executionInfo": {
     "elapsed": 245,
     "status": "error",
     "timestamp": 1559480883815,
     "user": {
      "displayName": "Rubiato Xabier",
      "photoUrl": "",
      "userId": "17524761415352944891"
     },
     "user_tz": -120
    },
    "id": "OrFJU7mUW6hw",
    "outputId": "0d5ed5e3-79f3-4c5f-fe23-ce521c47ce75",
    "scrolled": false
   },
   "outputs": [],
   "source": [
    "#Supply a filename here to load results from disk\n",
    "results = Results()\n",
    "\n",
    "num_episodes = 3000\n",
    "baseline = None\n",
    "\n",
    "policy_learning_rates = [0.0023]\n",
    "\n",
    "for policy_learning_rate in policy_learning_rates:\n",
    "    \n",
    "    experiment_name = \"Policy_lr = {} (No baseline)\".format(policy_learning_rate)\n",
    "    \n",
    "    frames_policy, _ = run_experiment(experiment_name=experiment_name,\n",
    "                                      env=discrete_env,\n",
    "                                      num_episodes=num_episodes,\n",
    "                                      policy_learning_rate=policy_learning_rate,\n",
    "                                      baseline=baseline)\n",
    "    \n",
    "results.save(filename='results_nobaseline_multilr')"
   ]
  },
  {
   "cell_type": "markdown",
   "metadata": {
    "colab_type": "text",
    "id": "UwQd76_NW6hy"
   },
   "source": [
    "#### With Simple baseline (moving average of discounted returns)"
   ]
  },
  {
   "cell_type": "code",
   "execution_count": null,
   "metadata": {
    "colab": {
     "base_uri": "https://localhost:8080/",
     "height": 500
    },
    "colab_type": "code",
    "executionInfo": {
     "elapsed": 1083,
     "status": "ok",
     "timestamp": 1559410541911,
     "user": {
      "displayName": "Rubiato Xabier",
      "photoUrl": "",
      "userId": "17524761415352944891"
     },
     "user_tz": -120
    },
    "id": "_Swv06RlW6hy",
    "outputId": "19984b55-58ea-47ad-db51-34cdb339888a"
   },
   "outputs": [],
   "source": [
    "num_episodes = 3000\n",
    "baseline = 'simple'\n",
    "policy_learning_rates = [0.0023]\n",
    "\n",
    "for policy_learning_rate in policy_learning_rates:\n",
    "    \n",
    "    experiment_name = \"Policy_lr = {} (simple)\".format(policy_learning_rate)\n",
    "    _, _ = run_experiment(experiment_name,\n",
    "                          discrete_env,\n",
    "                          num_episodes,\n",
    "                          policy_learning_rate, \n",
    "                          baseline=baseline)\n",
    "results.save(filename='results_baseline_multilr')"
   ]
  },
  {
   "cell_type": "code",
   "execution_count": null,
   "metadata": {
    "colab": {},
    "colab_type": "code",
    "id": "ts63_GEPW6h2"
   },
   "outputs": [],
   "source": [
    "render(episodes[-1], discrete_env)"
   ]
  },
  {
   "cell_type": "markdown",
   "metadata": {
    "colab_type": "text",
    "id": "s03d2VW3W6h4"
   },
   "source": [
    "**Question 1**: Why is it better to sample an action from the softmax distribution rather than just pick the action with highest probability? \n",
    "\n",
    "**Answer**: \n",
    "\n",
    "Picking the action with highest probability does not enable exploration: after the algorithm sees a certain state, the action to take will be almost fixed after the first occurence of the state (or close state as space state is almost continuous), if the action lead to a positive reward (gradient in the same direction). This easily leads to converge to local maximums. \n",
    "\n",
    "Sampling enables to explore and to exploit: the actions are chosen with respect to their computed probabilities such that all actions are possible even with a small probability. This preserves a stochastic character of the algorithm making it more robust to the various states it encounters. "
   ]
  },
  {
   "cell_type": "markdown",
   "metadata": {
    "colab_type": "text",
    "id": "D34Zv3DNW6h4"
   },
   "source": [
    "**Question 2**: In the train method above we throw away the data from an episode after we use it to train the network (make sure that you do that). Why is it not a good idea to keep the old episodes in our data and train the policy network on both old and new data? (Note: Reusing data can still be possible but requires modifications to the REINFORCE algorithm we are using).\n",
    "\n",
    "**Answer**:\n",
    "\n",
    "If the previous data was kept: \n",
    "\n",
    "- At the end of first episode (1), the neural networks trains on those results and its coefficients are modified consequently. \n",
    "\n",
    "- During the second episode (2), the decisions are taken according to what lead to better results in episode 1. \n",
    "\n",
    "- The training is performed using the data from episode 1 and 2. Hence it  gives more importance to the events of episode 1. Indeed, the neural network sees two times the data from episode 1 and only one time the data from episode 2 creating a bias towards the decisions of episode 1. \n",
    "\n",
    "Following this reasonning, after 3000 episodes, the neural network would have trainned 3000 times on the data of episode 1, 2999 on the data from episode 2 etc. and would have tuned its parameters only once with the data from episode 3000. \n",
    "\n",
    "Deleting the data prevents from overfitting the earlier realisations of an episode with respect to the most recent ones. "
   ]
  },
  {
   "cell_type": "code",
   "execution_count": null,
   "metadata": {
    "colab": {},
    "colab_type": "code",
    "id": "y6J78-BbjJyD"
   },
   "outputs": [],
   "source": []
  },
  {
   "cell_type": "markdown",
   "metadata": {
    "colab_type": "text",
    "id": "uGBoSycdW6h4"
   },
   "source": [
    "## Exercise 2: Adaptive baseline\n",
    "### Description\n",
    "\n",
    "Add a second neural network to your model that learns an observations-dependent adaptive baseline and subtracts it from your discounted returns.\n",
    "\n",
    "1. Modify the \"_build_network\" function of RLAgent to create a second \"value network\" when \"adaptive\" is passed for the baseline argument. The value network should have the same or similar structure as the policy network, without the softmax at the output.\n",
    "3. In addition to training your policy network, train the value network on the Mean-Squared Error compared to the adjusted returns.\n",
    "4. Train your policy network on R - b(s), i.e. the returns minus the adaptive baseline (the output of the value network). Your implementation should allow for a different learning rate for the value and policy network.\n",
    "5. Try a few learning rates and plot all your best results together (without baseline, with simple baseline, with adaptive baseline). You may or may not be able to improve on the simple baseline! Return the trained model to use it in the next exercise.\n",
    "\n",
    "TECHNICAL NOTE: Some textbooks may refer to this approach as \"Actor-Critic\", where the policy network is the \"Actor\" and the value network is the \"Critic\". Sutton and Barto (2018) suggest that Actor-Critic only applies when the discounted returns are bootstrapped from the value network output, as you saw in class. This can introduce instability in learning that needs to be addressed with more advanced techniques, so we won't use it for this miniproject. You can read more about state-of-the-art Actor-Critic approaches here: https://arxiv.org/pdf/1602.01783.pdf\n",
    "\n",
    "**Mark breakdown: 3 points total**\n",
    "- 3 points for implementing and plotting the adaptive baseline with the other two conditions, with reasonable performance (i.e. at least similar to the performance in Exercise 1)."
   ]
  },
  {
   "cell_type": "markdown",
   "metadata": {
    "colab_type": "text",
    "id": "fXK1MVVPW6h5"
   },
   "source": [
    "### Solution"
   ]
  },
  {
   "cell_type": "code",
   "execution_count": null,
   "metadata": {
    "colab": {
     "base_uri": "https://localhost:8080/",
     "height": 500
    },
    "colab_type": "code",
    "id": "iZ-tBdPaW6h5",
    "outputId": "44e51ce9-12c4-48c4-c9ed-3f848bb173d4",
    "scrolled": false
   },
   "outputs": [],
   "source": [
    "#results = Results()\n",
    "results = Results()\n",
    "num_episodes = 3000\n",
    "baseline = 'adaptive'\n",
    "policy_learning_rate = 0.002\n",
    "\n",
    "value_learning_rates = np.linspace(0.005, 0.015, 10)\n",
    "\n",
    "for value_learning_rate in value_learning_rates:\n",
    "\n",
    "    experiment_name = \"PL={}, VL={}\".format(policy_learning_rate, value_learning_rate)\n",
    "    adaptative_frames, _ = run_experiment(experiment_name,\n",
    "                                          discrete_env,\n",
    "                                          num_episodes,\n",
    "                                          policy_learning_rate,\n",
    "                                          value_learning_rate,\n",
    "                                          baseline=baseline)\n",
    "\n",
    "results.save(filename='results_adaptative_baseline_multilr')"
   ]
  },
  {
   "cell_type": "code",
   "execution_count": null,
   "metadata": {
    "colab": {},
    "colab_type": "code",
    "id": "dRVKE_ZgW6h6"
   },
   "outputs": [],
   "source": [
    "render(episodes[-1], discrete_env)"
   ]
  },
  {
   "cell_type": "markdown",
   "metadata": {
    "colab_type": "text",
    "id": "Ci0Bbf4bW6h8"
   },
   "source": [
    "## Exercise 3: Visualizing the Value Function\n",
    "\n",
    "### Description\n",
    "\n",
    "Ideally, our value network should have learned to predict the relative values across the input space. We can test this by plotting the value prediction for different observations.\n",
    "\n",
    "1. Write a function to plot the value network prediction across [x,y] space for given (constant) values of the other state variables. X is always in [-1,1], and Y generally lies in [-0.2,1], where the landing pad is at [0,0]. (plt.imshow, plt.title, and plt.colorbar can be useful)\n",
    "2. Plot (with titles specifying the state variable combinations) the values for 5-6 combinations of the other 6 state variables, including [0,0,0,0,0,0]. The X and Y velocity are generally within [-1,1], the angle is in [-pi,pi] and the angular velocity lies roughly within [-3,3]. The last two inputs indicating whether the legs have touched the ground are 0 (False) or 1 (True). Include two combinations with (one of the) state variables out of these ranges. Use the same color bar limits across the graphs so that they can be compared easily. \n",
    "3. Answer the question below in max. 2-3 sentence(s).\n",
    "\n",
    "**Mark breakdown: 3 points total**\n",
    "- 2 points for the plots of the value function.\n",
    "- 1 point for answering the question below."
   ]
  },
  {
   "cell_type": "markdown",
   "metadata": {
    "colab_type": "text",
    "id": "nMxq8VbhW6h8"
   },
   "source": [
    "### Solution"
   ]
  },
  {
   "cell_type": "code",
   "execution_count": null,
   "metadata": {
    "colab": {},
    "colab_type": "code",
    "id": "8VW-ZNnuW6h8"
   },
   "outputs": [],
   "source": []
  },
  {
   "cell_type": "markdown",
   "metadata": {
    "colab_type": "text",
    "id": "-BCOSMNFW6h9"
   },
   "source": [
    "**Question**: Does your value map for the state variables combination [0,0,0,0,0,0] make sense? What about the value maps for the combinations with state variables out of the ranges above?\n",
    "\n",
    "**Answer**:\n"
   ]
  },
  {
   "cell_type": "markdown",
   "metadata": {
    "colab_type": "text",
    "id": "rru2cNyQW6h-"
   },
   "source": [
    "## Exercise 4: Regularizing the Policy\n",
    "### Description\n",
    "\n",
    "In reinforcement learning one faces the exploration/exploitation dilemma. To maximize rewards, the agent needs to \"exploit\", or take the actions that it thinks will lead to the highest reward. However, doing this too early in training can result in a poor policy; the agent needs to adequately \"explore\" the state space in order to learn which policy is actually best at each state.\n",
    "\n",
    "In Q-learning, this is often accomplished by having the agent take random actions with a certain probability early in training. In Policy Gradient, this randomness is built-in because the agent is sampling from a policy distribution. We can improve exploration by making sure that the probability doesn't become too concentrated on certain actions early in training. In other words, we should try to regularize the information entropy (or uncertainty) of the policy distribution.\n",
    "\n",
    "1. Include a regularizer on the output of your policy network based on the entropy of the categorical distribution. You can do this by writing a function that calculates the entropy of your policy weighted by self.entropy_cost (using functions from Keras.backend, imported above), and passing it to your output layer with the activity_regularizer keyword. HINT: Keras will treat this as an additional loss function; make sure that it has the right sign!\n",
    "2. Try several values for the entropy cost below to see if you can improve performance. Plot them along with the adaptive baseline result (where the entropy cost was 0). Good costs will likely be on the order of 0.001; include one trial where the entropy cost was too high.\n",
    "\n",
    "Entropy regularization is related to but distinct from Maximum Entropy Reinforcement Learning (MERL). In the MERL framework the objective function is modified so that the agent tries to maximize reward and entropy of the policy along the full trajectory. \n",
    "\n",
    "3. Add entropy to reward when computing the episode returns (Hint: An entropy term should be added to the reward at every time step. This can be done simply by subtracting the log of the probability of the action taken at that time step (weighted by self.max_ent_cost) from the reward at that step. \n",
    "4. Try several values for the maximum entropy cost below to see if you can improve performance. Plot them along with the adaptive baseline result (where the maximum entropy cost was 0). Include one trial where the entropy cost was too high. (Do not use entropy regularization in this question, i.e. keep entropy_cost at 0).\n",
    "\n",
    "**Mark breakdown: 5 points total**\n",
    "- 3 points for plotting the results with entropy regularization with several costs, with reasonable performance.\n",
    "- 2 points for plotting the results with maximum entropy objective with several costs, with reasonable performance."
   ]
  },
  {
   "cell_type": "markdown",
   "metadata": {
    "colab_type": "text",
    "id": "APhyA9EKW6h-"
   },
   "source": [
    "### Solution"
   ]
  },
  {
   "cell_type": "markdown",
   "metadata": {
    "colab_type": "text",
    "id": "vv6C_nu8qtHm"
   },
   "source": [
    "#### Entropy Regularization"
   ]
  },
  {
   "cell_type": "code",
   "execution_count": null,
   "metadata": {
    "colab": {},
    "colab_type": "code",
    "id": "3eZ_IxxKW6h-",
    "scrolled": false
   },
   "outputs": [],
   "source": [
    "results = Results()\n",
    "num_episodes = 3000\n",
    "\n",
    "policy_learning_rate = 0.002\n",
    "value_learning_rate  = 0.0095\n",
    "\n",
    "entropy_costs = np.linspace(.0008,.0012, 0.1, 1)\n",
    "\n",
    "results.plot_keys = [\"REINFORCE (adaptive baseline)\"]\n",
    "\n",
    "for cost in entropy_costs:c\n",
    "    experiment_name = \"REINFORCE (adaptive, entropy cost: {})\".format(cost)\n",
    "\n",
    "    results.plot_keys.append(experiment_name)\n",
    "    \n",
    "    _, _ = run_experiment(experiment_name,\n",
    "                          discrete_env,\n",
    "                          num_episodes,\n",
    "                          policy_learning_rate,\n",
    "                          value_learning_rate,\n",
    "                          baseline='adaptive', \n",
    "                          entropy_cost=cost)\n",
    "\n",
    "results.save(filename='grid_search_entropy_cost')"
   ]
  },
  {
   "cell_type": "markdown",
   "metadata": {
    "colab_type": "text",
    "id": "D3r4od0ork9t"
   },
   "source": [
    "#### Max Entropy RL "
   ]
  },
  {
   "cell_type": "code",
   "execution_count": null,
   "metadata": {
    "colab": {
     "base_uri": "https://localhost:8080/",
     "height": 375
    },
    "colab_type": "code",
    "executionInfo": {
     "elapsed": 2744,
     "status": "error",
     "timestamp": 1559480729256,
     "user": {
      "displayName": "Rubiato Xabier",
      "photoUrl": "",
      "userId": "17524761415352944891"
     },
     "user_tz": -120
    },
    "id": "oNEip_IaW6iC",
    "outputId": "02ce93a0-a8e9-47a9-aebc-6a15f5993c6e"
   },
   "outputs": [],
   "source": [
    "results = Results()\n",
    "num_episodes = 3000\n",
    "policy_learning_rate = 0.002\n",
    "value_learning_rate = 0.0095\n",
    "\n",
    "max_ent_costs = [0.001, 0.01, 0.1, 1]\n",
    "\n",
    "results.plot_keys = [\"REINFORCE (adaptive baseline)\"]\n",
    "\n",
    "for cost in max_ent_costs:\n",
    "    experiment_name = \"REINFORCE (adaptive, maximum entropy cost: %s)\" % str(cost)\n",
    "    \n",
    "    results.plot_keys.append(experiment_name)\n",
    "    \n",
    "    _, _ = run_experiment(experiment_name,\n",
    "                          discrete_env,\n",
    "                          num_episodes,\n",
    "                          policy_learning_rate,\n",
    "                          value_learning_rate,\n",
    "                          baseline='adaptive',\n",
    "                          entropy_cost=0, \n",
    "                          max_ent_cost=cost)\n",
    "    \n",
    "results.save(filename='grid_search_max_entropy_cost')"
   ]
  },
  {
   "cell_type": "markdown",
   "metadata": {
    "colab_type": "text",
    "id": "mrBX377JW6iG"
   },
   "source": [
    "## For your Interest.."
   ]
  },
  {
   "cell_type": "markdown",
   "metadata": {
    "colab_type": "text",
    "id": "b1KWb4TiW6iG"
   },
   "source": [
    "The code you've written above can be easily adapted for other environments in Gym. If you like, try playing around with different environments and network structures!"
   ]
  }
 ],
 "metadata": {
  "colab": {
   "collapsed_sections": [
    "k62_YEmNW6hZ",
    "QkB8W8j-W6hd",
    "ygkAnUkNW6hh"
   ],
   "name": "collab_miniproject3_2019.ipynb",
   "provenance": [],
   "version": "0.3.2"
  },
  "kernelspec": {
   "display_name": "ANNenv",
   "language": "python",
   "name": "annenv"
  },
  "language_info": {
   "codemirror_mode": {
    "name": "ipython",
    "version": 3
   },
   "file_extension": ".py",
   "mimetype": "text/x-python",
   "name": "python",
   "nbconvert_exporter": "python",
   "pygments_lexer": "ipython3",
   "version": "3.6.7"
  },
  "toc": {
   "base_numbering": 1,
   "nav_menu": {},
   "number_sections": true,
   "sideBar": true,
   "skip_h1_title": false,
   "title_cell": "Table of Contents",
   "title_sidebar": "Contents",
   "toc_cell": false,
   "toc_position": {},
   "toc_section_display": true,
   "toc_window_display": false
  },
  "varInspector": {
   "cols": {
    "lenName": 16,
    "lenType": 16,
    "lenVar": 40
   },
   "kernels_config": {
    "python": {
     "delete_cmd_postfix": "",
     "delete_cmd_prefix": "del ",
     "library": "var_list.py",
     "varRefreshCmd": "print(var_dic_list())"
    },
    "r": {
     "delete_cmd_postfix": ") ",
     "delete_cmd_prefix": "rm(",
     "library": "var_list.r",
     "varRefreshCmd": "cat(var_dic_list()) "
    }
   },
   "types_to_exclude": [
    "module",
    "function",
    "builtin_function_or_method",
    "instance",
    "_Feature"
   ],
   "window_display": false
  }
 },
 "nbformat": 4,
 "nbformat_minor": 1
}
